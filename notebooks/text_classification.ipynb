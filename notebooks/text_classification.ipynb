{
 "cells": [
  {
   "cell_type": "code",
   "id": "initial_id",
   "metadata": {
    "collapsed": true,
    "ExecuteTime": {
     "end_time": "2025-09-25T08:48:34.831211Z",
     "start_time": "2025-09-25T08:09:36.591768Z"
    }
   },
   "source": [
    "# %% IMPORT LIBRARIES\n",
    "import os\n",
    "import pandas as pd\n",
    "import numpy as np\n",
    "from tqdm import tqdm\n",
    "from transformers import pipeline\n",
    "\n",
    "# %% SET WORKING DIRECTORY (OPTIONAL)\n",
    "print(\"Current working directory:\", os.getcwd())\n",
    "\n",
    "# %% LOAD CLEANED BOOK DATA\n",
    "books = pd.read_csv(r\"C:\\Users\\MSI\\Desktop\\BookNavigator\\data\\books_cleaned.csv\")\n",
    "print(\"Books loaded:\", books.shape)\n",
    "\n",
    "# %% DEFINE CATEGORY MAPPING\n",
    "category_mapping = {\n",
    "    'Fiction': \"Fiction\",\n",
    "    'Juvenile Fiction': \"Children's Fiction\",\n",
    "    'Biography & Autobiography': \"Nonfiction\",\n",
    "    'History': \"Nonfiction\",\n",
    "    'Literary Criticism': \"Nonfiction\",\n",
    "    'Philosophy': \"Nonfiction\",\n",
    "    'Religion': \"Nonfiction\",\n",
    "    'Comics & Graphic Novels': \"Fiction\",\n",
    "    'Drama': \"Fiction\",\n",
    "    'Juvenile Nonfiction': \"Children's Nonfiction\",\n",
    "    'Science': \"Nonfiction\",\n",
    "    'Poetry': \"Fiction\"\n",
    "}\n",
    "\n",
    "books[\"simple_categories\"] = books[\"categories\"].map(category_mapping)\n",
    "\n",
    "# %% SET UP ZERO-SHOT CLASSIFICATION PIPELINE\n",
    "categories = [\"Fiction\", \"Nonfiction\", \"Children's Fiction\", \"Children's Nonfiction\"]\n",
    "pipe = pipeline(\"zero-shot-classification\", model=\"facebook/bart-large-mnli\", device=-1)  # CPU=-1, GPU=0\n",
    "\n",
    "# %% DEFINE PREDICTION FUNCTION\n",
    "def generate_prediction(sequence, categories):\n",
    "    if pd.isna(sequence) or sequence.strip() == \"\":\n",
    "        return np.nan\n",
    "    predictions = pipe(sequence, candidate_labels=categories)\n",
    "    max_index = np.argmax(predictions[\"scores\"])\n",
    "    return predictions[\"labels\"][max_index]\n",
    "\n",
    "# %% PREDICT MISSING CATEGORIES\n",
    "missing_cats = books.loc[books[\"simple_categories\"].isna(), [\"isbn13\", \"description\"]].reset_index(drop=True)\n",
    "predicted_categories = []\n",
    "\n",
    "for i in tqdm(range(len(missing_cats)), desc=\"Predicting missing categories\"):\n",
    "    seq = missing_cats.loc[i, \"description\"]\n",
    "    predicted_categories.append(generate_prediction(seq, categories))\n",
    "\n",
    "# Merge predictions back to main dataframe\n",
    "missing_cats[\"predicted_categories\"] = predicted_categories\n",
    "books = pd.merge(\n",
    "    books,\n",
    "    missing_cats[[\"isbn13\", \"predicted_categories\"]],\n",
    "    on=\"isbn13\",\n",
    "    how=\"left\"\n",
    ")\n",
    "\n",
    "books[\"simple_categories\"] = np.where(\n",
    "    books[\"simple_categories\"].isna(),\n",
    "    books[\"predicted_categories\"],\n",
    "    books[\"simple_categories\"]\n",
    ")\n",
    "\n",
    "books.drop(columns=[\"predicted_categories\"], inplace=True)\n",
    "\n",
    "# %% SAVE FINAL DATASET\n",
    "output_path = r\"C:\\Users\\MSI\\Desktop\\BookNavigator\\data\\books_with_categories_new.csv\"\n",
    "books.to_csv(output_path, index=False)\n",
    "print(f\"✅ All categories processed and saved as {output_path}\")\n",
    "\n",
    "# %% OPTIONAL: CHECK CLASS DISTRIBUTION\n",
    "print(books[\"simple_categories\"].value_counts())\n"
   ],
   "outputs": [
    {
     "name": "stderr",
     "output_type": "stream",
     "text": [
      "C:\\Users\\MSI\\Desktop\\BookNavigator\\.venv1\\Lib\\site-packages\\tqdm\\auto.py:21: TqdmWarning: IProgress not found. Please update jupyter and ipywidgets. See https://ipywidgets.readthedocs.io/en/stable/user_install.html\n",
      "  from .autonotebook import tqdm as notebook_tqdm\n"
     ]
    },
    {
     "name": "stdout",
     "output_type": "stream",
     "text": [
      "Current working directory: C:\\Users\\MSI\\Desktop\\BookNavigator\\notebooks\n",
      "Books loaded: (5197, 13)\n"
     ]
    },
    {
     "name": "stderr",
     "output_type": "stream",
     "text": [
      "Device set to use cpu\n",
      "Predicting missing categories: 100%|██████████| 1454/1454 [38:43<00:00,  1.60s/it]"
     ]
    },
    {
     "name": "stdout",
     "output_type": "stream",
     "text": [
      "✅ All categories processed and saved as C:\\Users\\MSI\\Desktop\\BookNavigator\\data\\books_with_categories_new.csv\n",
      "simple_categories\n",
      "Fiction                  2761\n",
      "Nonfiction               1882\n",
      "Children's Fiction        447\n",
      "Children's Nonfiction     107\n",
      "Name: count, dtype: int64\n"
     ]
    },
    {
     "name": "stderr",
     "output_type": "stream",
     "text": [
      "\n"
     ]
    }
   ],
   "execution_count": 2
  }
 ],
 "metadata": {
  "kernelspec": {
   "display_name": "Python 3",
   "language": "python",
   "name": "python3"
  },
  "language_info": {
   "codemirror_mode": {
    "name": "ipython",
    "version": 2
   },
   "file_extension": ".py",
   "mimetype": "text/x-python",
   "name": "python",
   "nbconvert_exporter": "python",
   "pygments_lexer": "ipython2",
   "version": "2.7.6"
  }
 },
 "nbformat": 4,
 "nbformat_minor": 5
}
