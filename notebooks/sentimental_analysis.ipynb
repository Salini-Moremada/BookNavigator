{
 "cells": [
  {
   "cell_type": "code",
   "id": "initial_id",
   "metadata": {
    "collapsed": true,
    "ExecuteTime": {
     "end_time": "2025-09-25T12:06:25.074642Z",
     "start_time": "2025-09-25T11:59:08.119242Z"
    }
   },
   "source": [
    "import os\n",
    "import pandas as pd\n",
    "import numpy as np\n",
    "from transformers import pipeline\n",
    "from tqdm import tqdm\n",
    "\n",
    "# Set working directory\n",
    "os.chdir(r\"C:\\Users\\MSI\\Desktop\\BookNavigator\")\n",
    "print(\"Current working directory:\", os.getcwd())\n",
    "\n",
    "# Load books dataset\n",
    "books = pd.read_csv(r\"C:\\Users\\MSI\\Desktop\\Book Sphere\\data\\books_with_categories_new.csv\")\n",
    "\n",
    "# --- 1️⃣ Average Rating Classification ---\n",
    "def rating_category(rating):\n",
    "    if rating >= 4.5:\n",
    "        return \"Excellent\"\n",
    "    elif rating >= 4.0:\n",
    "        return \"Very Good\"\n",
    "    elif rating >= 3.0:\n",
    "        return \"Good\"\n",
    "    elif rating >= 2.0:\n",
    "        return \"Fair\"\n",
    "    elif rating >= 0:\n",
    "        return \"Poor\"\n",
    "    else:\n",
    "        return \"Unknown\"\n",
    "\n",
    "books[\"rating_category\"] = books[\"average_rating\"].apply(rating_category)\n",
    "\n",
    "# --- 2️⃣ Emotion Analysis ---\n",
    "# Initialize emotion classifier\n",
    "classifier = pipeline(\n",
    "    \"text-classification\",\n",
    "    model=\"j-hartmann/emotion-english-distilroberta-base\",\n",
    "    top_k=None,\n",
    "    device=-1  # CPU\n",
    ")\n",
    "\n",
    "# Define emotion labels\n",
    "emotion_labels = [\"anger\", \"disgust\", \"fear\", \"happiness\", \"sadness\", \"surprise\", \"neutral\"]\n",
    "\n",
    "# Function to calculate max emotion scores per book\n",
    "def calculate_max_emotion_scores(predictions):\n",
    "    per_emotion_scores = {label: [] for label in emotion_labels}\n",
    "    for prediction in predictions:\n",
    "        sorted_predictions = sorted(prediction, key=lambda x: x[\"label\"])\n",
    "        for index, label in enumerate(emotion_labels):\n",
    "            per_emotion_scores[label].append(sorted_predictions[index][\"score\"])\n",
    "    return {label: np.max(scores) for label, scores in per_emotion_scores.items()}\n",
    "\n",
    "# Compute emotion scores\n",
    "isbn = []\n",
    "emotion_scores = {label: [] for label in emotion_labels}\n",
    "\n",
    "for i in tqdm(range(len(books)), desc=\"Processing books for emotions\"):\n",
    "    isbn.append(books[\"isbn13\"][i])\n",
    "    sentences = str(books[\"description\"][i]).split(\".\")  # Ensure it's string\n",
    "    predictions = classifier(sentences)\n",
    "    max_scores = calculate_max_emotion_scores(predictions)\n",
    "    for label in emotion_labels:\n",
    "        emotion_scores[label].append(max_scores[label])\n",
    "\n",
    "# Create emotion dataframe\n",
    "emotion_df = pd.DataFrame(emotion_scores)\n",
    "emotion_df[\"isbn13\"] = isbn\n",
    "\n",
    "# Merge emotion scores into main books dataframe\n",
    "books_final = pd.merge(books, emotion_df, on=\"isbn13\")\n",
    "\n",
    "# Save final CSV in current working directory\n",
    "output_file = r\"C:\\Users\\MSI\\Desktop\\BookNavigator\\books_with_emotions_and_ratings.csv\"\n",
    "books_final.to_csv(output_file, index=False)\n",
    "\n",
    "print(f\"✅ Combined CSV saved at: {output_file}\")\n"
   ],
   "outputs": [
    {
     "name": "stdout",
     "output_type": "stream",
     "text": [
      "Current working directory: C:\\Users\\MSI\\Desktop\\BookNavigator\n"
     ]
    },
    {
     "name": "stderr",
     "output_type": "stream",
     "text": [
      "Device set to use cpu\n",
      "Processing books for emotions: 100%|██████████| 5197/5197 [07:14<00:00, 11.96it/s]"
     ]
    },
    {
     "name": "stdout",
     "output_type": "stream",
     "text": [
      "✅ Combined CSV saved at: C:\\Users\\MSI\\Desktop\\BookNavigator\\books_with_emotions_and_ratings.csv\n"
     ]
    },
    {
     "name": "stderr",
     "output_type": "stream",
     "text": [
      "\n"
     ]
    }
   ],
   "execution_count": 2
  }
 ],
 "metadata": {
  "kernelspec": {
   "display_name": "Python 3",
   "language": "python",
   "name": "python3"
  },
  "language_info": {
   "codemirror_mode": {
    "name": "ipython",
    "version": 2
   },
   "file_extension": ".py",
   "mimetype": "text/x-python",
   "name": "python",
   "nbconvert_exporter": "python",
   "pygments_lexer": "ipython2",
   "version": "2.7.6"
  }
 },
 "nbformat": 4,
 "nbformat_minor": 5
}
