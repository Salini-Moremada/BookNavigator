{
 "cells": [
  {
   "cell_type": "code",
   "id": "initial_id",
   "metadata": {
    "collapsed": true,
    "ExecuteTime": {
     "end_time": "2025-09-25T10:26:54.757873Z",
     "start_time": "2025-09-25T10:26:54.745570Z"
    }
   },
   "source": [
    "import os\n",
    "\n",
    "import numpy as np\n",
    "from sympy import sequence, categories\n",
    "\n",
    "print(os.getcwd())\n"
   ],
   "outputs": [
    {
     "name": "stdout",
     "output_type": "stream",
     "text": [
      "C:\\Program Files\\JetBrains\\PyCharm 2025.2.1\n"
     ]
    }
   ],
   "execution_count": 4
  },
  {
   "metadata": {
    "ExecuteTime": {
     "end_time": "2025-09-25T10:27:27.852478Z",
     "start_time": "2025-09-25T10:27:27.724346Z"
    }
   },
   "cell_type": "code",
   "source": [
    "import pandas as pd\n",
    "\n",
    "books = pd.read_csv(r\"D:\\BookNavigator\\data\\books_with_categories_new.csv\")\n",
    "\n"
   ],
   "id": "304c3a86ae161d0e",
   "outputs": [],
   "execution_count": 6
  },
  {
   "metadata": {
    "ExecuteTime": {
     "end_time": "2025-09-25T10:30:50.985423Z",
     "start_time": "2025-09-25T10:27:34.263469Z"
    }
   },
   "cell_type": "code",
   "source": [
    "from transformers import pipeline\n",
    "\n",
    "# Initialize the pipeline for emotion classification\n",
    "classifier = pipeline(\n",
    "    \"text-classification\",\n",
    "    model=\"j-hartmann/emotion-english-distilroberta-base\",\n",
    "    return_all_scores=True\n",
    ")\n"
   ],
   "id": "9c1a91f425667f5d",
   "outputs": [
    {
     "data": {
      "text/plain": [
       "config.json: 0.00B [00:00, ?B/s]"
      ],
      "application/vnd.jupyter.widget-view+json": {
       "version_major": 2,
       "version_minor": 0,
       "model_id": "0fc8df07bb1f42c1a28c0c960a938cc9"
      }
     },
     "metadata": {},
     "output_type": "display_data",
     "jetTransient": {
      "display_id": null
     }
    },
    {
     "name": "stderr",
     "output_type": "stream",
     "text": [
      "D:\\BookNavigator\\.venv\\Lib\\site-packages\\huggingface_hub\\file_download.py:143: UserWarning: `huggingface_hub` cache-system uses symlinks by default to efficiently store duplicated files but your machine does not support them in C:\\Users\\linuk\\.cache\\huggingface\\hub\\models--j-hartmann--emotion-english-distilroberta-base. Caching files will still work but in a degraded version that might require more space on your disk. This warning can be disabled by setting the `HF_HUB_DISABLE_SYMLINKS_WARNING` environment variable. For more details, see https://huggingface.co/docs/huggingface_hub/how-to-cache#limitations.\n",
      "To support symlinks on Windows, you either need to activate Developer Mode or to run Python as an administrator. In order to activate developer mode, see this article: https://docs.microsoft.com/en-us/windows/apps/get-started/enable-your-device-for-development\n",
      "  warnings.warn(message)\n",
      "Xet Storage is enabled for this repo, but the 'hf_xet' package is not installed. Falling back to regular HTTP download. For better performance, install the package with: `pip install huggingface_hub[hf_xet]` or `pip install hf_xet`\n"
     ]
    },
    {
     "data": {
      "text/plain": [
       "pytorch_model.bin:   0%|          | 0.00/329M [00:00<?, ?B/s]"
      ],
      "application/vnd.jupyter.widget-view+json": {
       "version_major": 2,
       "version_minor": 0,
       "model_id": "5ce39f422b294801a6aac2931a5ed005"
      }
     },
     "metadata": {},
     "output_type": "display_data",
     "jetTransient": {
      "display_id": null
     }
    },
    {
     "data": {
      "text/plain": [
       "tokenizer_config.json:   0%|          | 0.00/294 [00:00<?, ?B/s]"
      ],
      "application/vnd.jupyter.widget-view+json": {
       "version_major": 2,
       "version_minor": 0,
       "model_id": "0d4b8d144e5941af92a79ad1b74da968"
      }
     },
     "metadata": {},
     "output_type": "display_data",
     "jetTransient": {
      "display_id": null
     }
    },
    {
     "data": {
      "text/plain": [
       "vocab.json: 0.00B [00:00, ?B/s]"
      ],
      "application/vnd.jupyter.widget-view+json": {
       "version_major": 2,
       "version_minor": 0,
       "model_id": "8e67f7cd86374255a6d74e4c8926c893"
      }
     },
     "metadata": {},
     "output_type": "display_data",
     "jetTransient": {
      "display_id": null
     }
    },
    {
     "name": "stderr",
     "output_type": "stream",
     "text": [
      "Xet Storage is enabled for this repo, but the 'hf_xet' package is not installed. Falling back to regular HTTP download. For better performance, install the package with: `pip install huggingface_hub[hf_xet]` or `pip install hf_xet`\n"
     ]
    },
    {
     "data": {
      "text/plain": [
       "model.safetensors:   0%|          | 0.00/329M [00:00<?, ?B/s]"
      ],
      "application/vnd.jupyter.widget-view+json": {
       "version_major": 2,
       "version_minor": 0,
       "model_id": "3b246b1d554540e1b7bbbc0bfa2970ea"
      }
     },
     "metadata": {},
     "output_type": "display_data",
     "jetTransient": {
      "display_id": null
     }
    },
    {
     "data": {
      "text/plain": [
       "merges.txt: 0.00B [00:00, ?B/s]"
      ],
      "application/vnd.jupyter.widget-view+json": {
       "version_major": 2,
       "version_minor": 0,
       "model_id": "8f535ae2e6b6462981c8e083f03393d5"
      }
     },
     "metadata": {},
     "output_type": "display_data",
     "jetTransient": {
      "display_id": null
     }
    },
    {
     "data": {
      "text/plain": [
       "tokenizer.json: 0.00B [00:00, ?B/s]"
      ],
      "application/vnd.jupyter.widget-view+json": {
       "version_major": 2,
       "version_minor": 0,
       "model_id": "297c37164d37407fa48009d8b45df51d"
      }
     },
     "metadata": {},
     "output_type": "display_data",
     "jetTransient": {
      "display_id": null
     }
    },
    {
     "data": {
      "text/plain": [
       "special_tokens_map.json:   0%|          | 0.00/239 [00:00<?, ?B/s]"
      ],
      "application/vnd.jupyter.widget-view+json": {
       "version_major": 2,
       "version_minor": 0,
       "model_id": "1c6810f61786465581d725e779d3cf19"
      }
     },
     "metadata": {},
     "output_type": "display_data",
     "jetTransient": {
      "display_id": null
     }
    },
    {
     "name": "stderr",
     "output_type": "stream",
     "text": [
      "Device set to use cpu\n",
      "D:\\BookNavigator\\.venv\\Lib\\site-packages\\transformers\\pipelines\\text_classification.py:111: UserWarning: `return_all_scores` is now deprecated,  if want a similar functionality use `top_k=None` instead of `return_all_scores=True` or `top_k=1` instead of `return_all_scores=False`.\n",
      "  warnings.warn(\n"
     ]
    }
   ],
   "execution_count": 7
  },
  {
   "metadata": {
    "ExecuteTime": {
     "end_time": "2025-09-25T10:33:17.843369Z",
     "start_time": "2025-09-25T10:33:17.717557Z"
    }
   },
   "cell_type": "code",
   "source": [
    "text = \"I love this book!\"\n",
    "results = classifier(text)\n",
    "\n",
    "# Show results\n",
    "print(results)\n"
   ],
   "id": "ef44a1f66964726f",
   "outputs": [
    {
     "name": "stdout",
     "output_type": "stream",
     "text": [
      "[[{'label': 'anger', 'score': 0.003737012157216668}, {'label': 'disgust', 'score': 0.0012559992028400302}, {'label': 'fear', 'score': 0.0003995072329416871}, {'label': 'joy', 'score': 0.9771486520767212}, {'label': 'neutral', 'score': 0.0045816730707883835}, {'label': 'sadness', 'score': 0.0020460886880755424}, {'label': 'surprise', 'score': 0.010831083171069622}]]\n"
     ]
    }
   ],
   "execution_count": 8
  },
  {
   "metadata": {
    "ExecuteTime": {
     "end_time": "2025-09-25T10:35:32.587880Z",
     "start_time": "2025-09-25T10:35:28.397828Z"
    }
   },
   "cell_type": "code",
   "source": [
    "from transformers import pipeline\n",
    "\n",
    "# Initialize the emotion classification pipeline\n",
    "classifier = pipeline(\n",
    "    \"text-classification\",\n",
    "    model=\"j-hartmann/emotion-english-distilroberta-base\",\n",
    "    top_k=None,        # returns scores for all emotions\n",
    "    device=-1          # use CPU; change to 0 for GPU with CUDA\n",
    ")\n",
    "\n",
    "# Example usage\n",
    "result = classifier(\"I love this!\")\n",
    "print(result)\n"
   ],
   "id": "bd164e318988bab3",
   "outputs": [
    {
     "name": "stderr",
     "output_type": "stream",
     "text": [
      "Device set to use cpu\n"
     ]
    },
    {
     "name": "stdout",
     "output_type": "stream",
     "text": [
      "[[{'label': 'joy', 'score': 0.9771687984466553}, {'label': 'surprise', 'score': 0.008528688922524452}, {'label': 'neutral', 'score': 0.005764586851000786}, {'label': 'anger', 'score': 0.004419783595949411}, {'label': 'sadness', 'score': 0.002092392183840275}, {'label': 'disgust', 'score': 0.0016119893407449126}, {'label': 'fear', 'score': 0.0004138524236623198}]]\n"
     ]
    }
   ],
   "execution_count": 9
  },
  {
   "metadata": {
    "ExecuteTime": {
     "end_time": "2025-09-25T10:36:02.277902Z",
     "start_time": "2025-09-25T10:36:02.268Z"
    }
   },
   "cell_type": "code",
   "source": "books[\"description\"][0]",
   "id": "12f6013ae4dfd3b8",
   "outputs": [
    {
     "data": {
      "text/plain": [
       "'A NOVEL THAT READERS and critics have been eagerly anticipating for over a decade, Gilead is an astonishingly imagined story of remarkable lives. John Ames is a preacher, the son of a preacher and the grandson (both maternal and paternal) of preachers. It’s 1956 in Gilead, Iowa, towards the end of the Reverend Ames’s life, and he is absorbed in recording his family’s story, a legacy for the young son he will never see grow up. Haunted by his grandfather’s presence, John tells of the rift between his grandfather and his father: the elder, an angry visionary who fought for the abolitionist cause, and his son, an ardent pacifist. He is troubled, too, by his prodigal namesake, Jack (John Ames) Boughton, his best friend’s lost son who returns to Gilead searching for forgiveness and redemption. Told in John Ames’s joyous, rambling voice that finds beauty, humour and truth in the smallest of life’s details, Gilead is a song of celebration and acceptance of the best and the worst the world has to offer. At its heart is a tale of the sacred bonds between fathers and sons, pitch-perfect in style and story, set to dazzle critics and readers alike.'"
      ]
     },
     "execution_count": 10,
     "metadata": {},
     "output_type": "execute_result"
    }
   ],
   "execution_count": 10
  },
  {
   "metadata": {
    "ExecuteTime": {
     "end_time": "2025-09-25T10:40:09.258714Z",
     "start_time": "2025-09-25T10:40:08.964438Z"
    }
   },
   "cell_type": "code",
   "source": "classifier(books[\"description\"][0])",
   "id": "812763dfcba2a7ff",
   "outputs": [
    {
     "data": {
      "text/plain": [
       "[[{'label': 'fear', 'score': 0.6548405885696411},\n",
       "  {'label': 'neutral', 'score': 0.16985228657722473},\n",
       "  {'label': 'sadness', 'score': 0.11640921980142593},\n",
       "  {'label': 'surprise', 'score': 0.02070065587759018},\n",
       "  {'label': 'disgust', 'score': 0.019100677222013474},\n",
       "  {'label': 'joy', 'score': 0.01516144908964634},\n",
       "  {'label': 'anger', 'score': 0.003935146611183882}]]"
      ]
     },
     "execution_count": 11,
     "metadata": {},
     "output_type": "execute_result"
    }
   ],
   "execution_count": 11
  },
  {
   "metadata": {
    "ExecuteTime": {
     "end_time": "2025-09-25T10:40:12.520789Z",
     "start_time": "2025-09-25T10:40:11.886554Z"
    }
   },
   "cell_type": "code",
   "source": "classifier(books[\"description\"][0].split(\".\"))",
   "id": "9861d0a088506c51",
   "outputs": [
    {
     "data": {
      "text/plain": [
       "[[{'label': 'surprise', 'score': 0.7296020984649658},\n",
       "  {'label': 'neutral', 'score': 0.14038600027561188},\n",
       "  {'label': 'fear', 'score': 0.06816228479146957},\n",
       "  {'label': 'joy', 'score': 0.04794260859489441},\n",
       "  {'label': 'anger', 'score': 0.009156366810202599},\n",
       "  {'label': 'disgust', 'score': 0.0026284765917807817},\n",
       "  {'label': 'sadness', 'score': 0.002122163539752364}],\n",
       " [{'label': 'neutral', 'score': 0.44937002658843994},\n",
       "  {'label': 'disgust', 'score': 0.27359163761138916},\n",
       "  {'label': 'joy', 'score': 0.10908330976963043},\n",
       "  {'label': 'sadness', 'score': 0.09362746775150299},\n",
       "  {'label': 'anger', 'score': 0.04047830402851105},\n",
       "  {'label': 'surprise', 'score': 0.026970159262418747},\n",
       "  {'label': 'fear', 'score': 0.006879047024995089}],\n",
       " [{'label': 'neutral', 'score': 0.6462159752845764},\n",
       "  {'label': 'sadness', 'score': 0.24273329973220825},\n",
       "  {'label': 'disgust', 'score': 0.04342271760106087},\n",
       "  {'label': 'surprise', 'score': 0.028300564736127853},\n",
       "  {'label': 'joy', 'score': 0.014211472123861313},\n",
       "  {'label': 'fear', 'score': 0.0140841044485569},\n",
       "  {'label': 'anger', 'score': 0.011031901463866234}],\n",
       " [{'label': 'fear', 'score': 0.9281681180000305},\n",
       "  {'label': 'anger', 'score': 0.032191041857004166},\n",
       "  {'label': 'neutral', 'score': 0.01280867587774992},\n",
       "  {'label': 'sadness', 'score': 0.008756861090660095},\n",
       "  {'label': 'surprise', 'score': 0.008597906678915024},\n",
       "  {'label': 'disgust', 'score': 0.008431818336248398},\n",
       "  {'label': 'joy', 'score': 0.0010455837473273277}],\n",
       " [{'label': 'sadness', 'score': 0.9671575427055359},\n",
       "  {'label': 'neutral', 'score': 0.015104127116501331},\n",
       "  {'label': 'disgust', 'score': 0.006480589509010315},\n",
       "  {'label': 'fear', 'score': 0.005393980070948601},\n",
       "  {'label': 'surprise', 'score': 0.002286937553435564},\n",
       "  {'label': 'anger', 'score': 0.0018428878393024206},\n",
       "  {'label': 'joy', 'score': 0.0017338756006211042}],\n",
       " [{'label': 'joy', 'score': 0.932798445224762},\n",
       "  {'label': 'disgust', 'score': 0.0377168171107769},\n",
       "  {'label': 'neutral', 'score': 0.015891803428530693},\n",
       "  {'label': 'sadness', 'score': 0.006444480270147324},\n",
       "  {'label': 'anger', 'score': 0.005024945829063654},\n",
       "  {'label': 'surprise', 'score': 0.0015812049387022853},\n",
       "  {'label': 'fear', 'score': 0.0005423048860393465}],\n",
       " [{'label': 'joy', 'score': 0.6528708338737488},\n",
       "  {'label': 'neutral', 'score': 0.25427478551864624},\n",
       "  {'label': 'surprise', 'score': 0.06808284670114517},\n",
       "  {'label': 'sadness', 'score': 0.009908987209200859},\n",
       "  {'label': 'disgust', 'score': 0.0065122200176119804},\n",
       "  {'label': 'anger', 'score': 0.004821304697543383},\n",
       "  {'label': 'fear', 'score': 0.0035290175583213568}],\n",
       " [{'label': 'neutral', 'score': 0.5494771003723145},\n",
       "  {'label': 'sadness', 'score': 0.11169007420539856},\n",
       "  {'label': 'disgust', 'score': 0.10400661826133728},\n",
       "  {'label': 'surprise', 'score': 0.07876546680927277},\n",
       "  {'label': 'anger', 'score': 0.06413359194993973},\n",
       "  {'label': 'fear', 'score': 0.051362793892621994},\n",
       "  {'label': 'joy', 'score': 0.04056438058614731}]]"
      ]
     },
     "execution_count": 12,
     "metadata": {},
     "output_type": "execute_result"
    }
   ],
   "execution_count": 12
  },
  {
   "metadata": {
    "ExecuteTime": {
     "end_time": "2025-09-25T10:40:17.711742Z",
     "start_time": "2025-09-25T10:40:17.102999Z"
    }
   },
   "cell_type": "code",
   "source": [
    "sentences = books[\"description\"][0].split(\".\")\n",
    "predictions = classifier(sentences)"
   ],
   "id": "5406d81756ceb96",
   "outputs": [],
   "execution_count": 13
  },
  {
   "metadata": {
    "ExecuteTime": {
     "end_time": "2025-09-25T10:40:20.688141Z",
     "start_time": "2025-09-25T10:40:20.679080Z"
    }
   },
   "cell_type": "code",
   "source": "sentences[0]",
   "id": "14e5fda682c5c1c9",
   "outputs": [
    {
     "data": {
      "text/plain": [
       "'A NOVEL THAT READERS and critics have been eagerly anticipating for over a decade, Gilead is an astonishingly imagined story of remarkable lives'"
      ]
     },
     "execution_count": 14,
     "metadata": {},
     "output_type": "execute_result"
    }
   ],
   "execution_count": 14
  },
  {
   "metadata": {
    "ExecuteTime": {
     "end_time": "2025-09-25T10:40:22.411533Z",
     "start_time": "2025-09-25T10:40:22.402410Z"
    }
   },
   "cell_type": "code",
   "source": "predictions[0]",
   "id": "f6a05c4efbca3ec7",
   "outputs": [
    {
     "data": {
      "text/plain": [
       "[{'label': 'surprise', 'score': 0.7296020984649658},\n",
       " {'label': 'neutral', 'score': 0.14038600027561188},\n",
       " {'label': 'fear', 'score': 0.06816228479146957},\n",
       " {'label': 'joy', 'score': 0.04794260859489441},\n",
       " {'label': 'anger', 'score': 0.009156366810202599},\n",
       " {'label': 'disgust', 'score': 0.0026284765917807817},\n",
       " {'label': 'sadness', 'score': 0.002122163539752364}]"
      ]
     },
     "execution_count": 15,
     "metadata": {},
     "output_type": "execute_result"
    }
   ],
   "execution_count": 15
  },
  {
   "metadata": {
    "ExecuteTime": {
     "end_time": "2025-09-25T10:40:24.692364Z",
     "start_time": "2025-09-25T10:40:24.680932Z"
    }
   },
   "cell_type": "code",
   "source": "predictions[3]",
   "id": "6405945e51118845",
   "outputs": [
    {
     "data": {
      "text/plain": [
       "[{'label': 'fear', 'score': 0.9281681180000305},\n",
       " {'label': 'anger', 'score': 0.032191041857004166},\n",
       " {'label': 'neutral', 'score': 0.01280867587774992},\n",
       " {'label': 'sadness', 'score': 0.008756861090660095},\n",
       " {'label': 'surprise', 'score': 0.008597906678915024},\n",
       " {'label': 'disgust', 'score': 0.008431818336248398},\n",
       " {'label': 'joy', 'score': 0.0010455837473273277}]"
      ]
     },
     "execution_count": 16,
     "metadata": {},
     "output_type": "execute_result"
    }
   ],
   "execution_count": 16
  },
  {
   "metadata": {
    "ExecuteTime": {
     "end_time": "2025-09-25T10:40:27.507303Z",
     "start_time": "2025-09-25T10:40:27.492077Z"
    }
   },
   "cell_type": "code",
   "source": "predictions",
   "id": "21e62a4b8cfe6763",
   "outputs": [
    {
     "data": {
      "text/plain": [
       "[[{'label': 'surprise', 'score': 0.7296020984649658},\n",
       "  {'label': 'neutral', 'score': 0.14038600027561188},\n",
       "  {'label': 'fear', 'score': 0.06816228479146957},\n",
       "  {'label': 'joy', 'score': 0.04794260859489441},\n",
       "  {'label': 'anger', 'score': 0.009156366810202599},\n",
       "  {'label': 'disgust', 'score': 0.0026284765917807817},\n",
       "  {'label': 'sadness', 'score': 0.002122163539752364}],\n",
       " [{'label': 'neutral', 'score': 0.44937002658843994},\n",
       "  {'label': 'disgust', 'score': 0.27359163761138916},\n",
       "  {'label': 'joy', 'score': 0.10908330976963043},\n",
       "  {'label': 'sadness', 'score': 0.09362746775150299},\n",
       "  {'label': 'anger', 'score': 0.04047830402851105},\n",
       "  {'label': 'surprise', 'score': 0.026970159262418747},\n",
       "  {'label': 'fear', 'score': 0.006879047024995089}],\n",
       " [{'label': 'neutral', 'score': 0.6462159752845764},\n",
       "  {'label': 'sadness', 'score': 0.24273329973220825},\n",
       "  {'label': 'disgust', 'score': 0.04342271760106087},\n",
       "  {'label': 'surprise', 'score': 0.028300564736127853},\n",
       "  {'label': 'joy', 'score': 0.014211472123861313},\n",
       "  {'label': 'fear', 'score': 0.0140841044485569},\n",
       "  {'label': 'anger', 'score': 0.011031901463866234}],\n",
       " [{'label': 'fear', 'score': 0.9281681180000305},\n",
       "  {'label': 'anger', 'score': 0.032191041857004166},\n",
       "  {'label': 'neutral', 'score': 0.01280867587774992},\n",
       "  {'label': 'sadness', 'score': 0.008756861090660095},\n",
       "  {'label': 'surprise', 'score': 0.008597906678915024},\n",
       "  {'label': 'disgust', 'score': 0.008431818336248398},\n",
       "  {'label': 'joy', 'score': 0.0010455837473273277}],\n",
       " [{'label': 'sadness', 'score': 0.9671575427055359},\n",
       "  {'label': 'neutral', 'score': 0.015104127116501331},\n",
       "  {'label': 'disgust', 'score': 0.006480589509010315},\n",
       "  {'label': 'fear', 'score': 0.005393980070948601},\n",
       "  {'label': 'surprise', 'score': 0.002286937553435564},\n",
       "  {'label': 'anger', 'score': 0.0018428878393024206},\n",
       "  {'label': 'joy', 'score': 0.0017338756006211042}],\n",
       " [{'label': 'joy', 'score': 0.932798445224762},\n",
       "  {'label': 'disgust', 'score': 0.0377168171107769},\n",
       "  {'label': 'neutral', 'score': 0.015891803428530693},\n",
       "  {'label': 'sadness', 'score': 0.006444480270147324},\n",
       "  {'label': 'anger', 'score': 0.005024945829063654},\n",
       "  {'label': 'surprise', 'score': 0.0015812049387022853},\n",
       "  {'label': 'fear', 'score': 0.0005423048860393465}],\n",
       " [{'label': 'joy', 'score': 0.6528708338737488},\n",
       "  {'label': 'neutral', 'score': 0.25427478551864624},\n",
       "  {'label': 'surprise', 'score': 0.06808284670114517},\n",
       "  {'label': 'sadness', 'score': 0.009908987209200859},\n",
       "  {'label': 'disgust', 'score': 0.0065122200176119804},\n",
       "  {'label': 'anger', 'score': 0.004821304697543383},\n",
       "  {'label': 'fear', 'score': 0.0035290175583213568}],\n",
       " [{'label': 'neutral', 'score': 0.5494771003723145},\n",
       "  {'label': 'sadness', 'score': 0.11169007420539856},\n",
       "  {'label': 'disgust', 'score': 0.10400661826133728},\n",
       "  {'label': 'surprise', 'score': 0.07876546680927277},\n",
       "  {'label': 'anger', 'score': 0.06413359194993973},\n",
       "  {'label': 'fear', 'score': 0.051362793892621994},\n",
       "  {'label': 'joy', 'score': 0.04056438058614731}]]"
      ]
     },
     "execution_count": 17,
     "metadata": {},
     "output_type": "execute_result"
    }
   ],
   "execution_count": 17
  }
 ],
 "metadata": {
  "kernelspec": {
   "display_name": "Python 3",
   "language": "python",
   "name": "python3"
  },
  "language_info": {
   "codemirror_mode": {
    "name": "ipython",
    "version": 2
   },
   "file_extension": ".py",
   "mimetype": "text/x-python",
   "name": "python",
   "nbconvert_exporter": "python",
   "pygments_lexer": "ipython2",
   "version": "2.7.6"
  }
 },
 "nbformat": 4,
 "nbformat_minor": 5
}
